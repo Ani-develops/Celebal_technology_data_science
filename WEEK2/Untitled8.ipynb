{
 "cells": [
  {
   "cell_type": "markdown",
   "id": "bc5d21b9",
   "metadata": {},
   "source": [
    "WEEK 2 \n",
    "SIMPLE CALCULATOR "
   ]
  },
  {
   "cell_type": "code",
   "execution_count": null,
   "id": "d3f0d02c",
   "metadata": {},
   "outputs": [
    {
     "name": "stdout",
     "output_type": "stream",
     "text": [
      "Enter first number: 12\n",
      "Enter second number: 5\n",
      "Select operation:\n",
      "1. Add\n",
      "2. Subtract\n",
      "3. Multiply\n",
      "4. Divide\n",
      "5. Exit\n",
      "Enter choice (1/2/3/4/5): 3\n",
      "12.0 * 5.0 = 60.0\n"
     ]
    }
   ],
   "source": [
    "class Calculator:\n",
    "    def __init__(self, num1, num2):\n",
    "        self.num1 = num1\n",
    "        self.num2 = num2\n",
    "\n",
    "    def add(self):\n",
    "        return self.num1 + self.num2\n",
    "\n",
    "    def subtract(self):\n",
    "        return self.num1 - self.num2\n",
    "\n",
    "    def multiply(self):\n",
    "        return self.num1 * self.num2\n",
    "\n",
    "    def divide(self):\n",
    "        if self.num2 == 0:\n",
    "            return \"Cannot divide by zero\"\n",
    "        else:\n",
    "            return self.num1 / self.num2\n",
    "\n",
    "\n",
    "while True:\n",
    "    num1 = float(input(\"Enter first number: \"))\n",
    "    num2 = float(input(\"Enter second number: \"))\n",
    "\n",
    "    calc = Calculator(num1, num2)\n",
    "\n",
    "    print(\"Select operation:\")\n",
    "    print(\"1. Add\")\n",
    "    print(\"2. Subtract\")\n",
    "    print(\"3. Multiply\")\n",
    "    print(\"4. Divide\")\n",
    "    print(\"5. Exit\")\n",
    "\n",
    "    choice = input(\"Enter choice (1/2/3/4/5): \")\n",
    "\n",
    "    if choice == '1':\n",
    "        print(num1, \"+\", num2, \"=\", calc.add())\n",
    "\n",
    "    elif choice == '2':\n",
    "        print(num1, \"-\", num2, \"=\", calc.subtract())\n",
    "\n",
    "    elif choice == '3':\n",
    "        print(num1, \"*\", num2, \"=\", calc.multiply())\n",
    "\n",
    "    elif choice == '4':\n",
    "        print(num1, \"/\", num2, \"=\", calc.divide())\n",
    "\n",
    "    elif choice == '5':\n",
    "        break\n",
    "\n",
    "    else:\n",
    "        print(\"Invalid input\")"
   ]
  },
  {
   "cell_type": "markdown",
   "id": "285676b1",
   "metadata": {},
   "source": []
  }
 ],
 "metadata": {
  "kernelspec": {
   "display_name": "Python 3 (ipykernel)",
   "language": "python",
   "name": "python3"
  },
  "language_info": {
   "codemirror_mode": {
    "name": "ipython",
    "version": 3
   },
   "file_extension": ".py",
   "mimetype": "text/x-python",
   "name": "python",
   "nbconvert_exporter": "python",
   "pygments_lexer": "ipython3",
   "version": "3.11.5"
  }
 },
 "nbformat": 4,
 "nbformat_minor": 5
}
